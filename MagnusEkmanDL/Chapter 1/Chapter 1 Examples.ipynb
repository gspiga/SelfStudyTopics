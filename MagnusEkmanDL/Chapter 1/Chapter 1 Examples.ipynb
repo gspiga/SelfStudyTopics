{
 "cells": [
  {
   "cell_type": "markdown",
   "id": "39c320b2",
   "metadata": {},
   "source": [
    "# Chapter 1"
   ]
  },
  {
   "cell_type": "markdown",
   "id": "ad3156ca",
   "metadata": {},
   "source": [
    "Code - Snippet 1-1: Python Implentation of Perceptron Function (pg 59)"
   ]
  },
  {
   "cell_type": "code",
   "execution_count": 1,
   "id": "9bb052b6",
   "metadata": {},
   "outputs": [],
   "source": [
    "# First element in vector x must be 1\n",
    "# Length of w and x must be n+1 for neuron with n inputs\n",
    "def compute_output(w,x):\n",
    "    z = 0.0 \n",
    "    for i in range(len(w)):\n",
    "        z += x[i] * w[i]\n",
    "    if z < 0:\n",
    "        return -1\n",
    "    else:\n",
    "        return 1"
   ]
  },
  {
   "cell_type": "code",
   "execution_count": 2,
   "id": "65b25e00",
   "metadata": {},
   "outputs": [
    {
     "name": "stdout",
     "output_type": "stream",
     "text": [
      "1\n",
      "1\n",
      "1\n",
      "-1\n"
     ]
    }
   ],
   "source": [
    "print(compute_output([0.9, -0.6, -0.5], [1.0, -1.0, -1.0]))\n",
    "print(compute_output([0.9, -0.6, -0.5], [1.0, -1.0, 1.0]))\n",
    "print(compute_output([0.9, -0.6, -0.5], [1.0, 1.0, -1.0]))\n",
    "print(compute_output([0.9, -0.6, -0.5], [1.0, 1.0, 1.0]))"
   ]
  },
  {
   "cell_type": "markdown",
   "id": "2bedac0b",
   "metadata": {},
   "source": [
    "Code Snippet 1-2 Initialization Code for Our Perceptron Learning Example (pg 64)"
   ]
  },
  {
   "cell_type": "code",
   "execution_count": 3,
   "id": "61ed96d1",
   "metadata": {},
   "outputs": [
    {
     "name": "stdout",
     "output_type": "stream",
     "text": [
      "w0 =  0.20 , w1 = -0.60 , w2 =  0.25\n"
     ]
    }
   ],
   "source": [
    "import random\n",
    "\n",
    "def show_learning(w):\n",
    "    print('w0 =', '%5.2f' % w[0], ', w1 =', '%5.2f' % w[1], ', w2 =', '%5.2f' % w[2])\n",
    "    \n",
    "# Define variables needed to control training process\n",
    "random.seed(7) # To make repeatable\n",
    "LEARNING_RATE = 0.1\n",
    "index_list = [0, 1, 2, 3] # Used to randomize order\n",
    "\n",
    "# Define training example \n",
    "x_train = [(1.0, -1.0, -1.0), (1.0, -1.0, 1.0), (1.0, 1.0, -1.0), (1.0, 1.0, 1.0)] #Inputs\n",
    "y_train = [1.0, 1.0, 1.0, -1.0] # Output (ground truth)\n",
    "\n",
    "# Define perceptron weights.\n",
    "w = [0.2, -0.6, 0.25] # Initialize to some \"random\" numbers\n",
    "\n",
    "# Print initial weights\n",
    "show_learning(w)"
   ]
  },
  {
   "cell_type": "markdown",
   "id": "2ed24775",
   "metadata": {},
   "source": [
    "Code Snippet 1-4: Perceptron Training Loop (pg 65)"
   ]
  },
  {
   "cell_type": "code",
   "execution_count": 9,
   "id": "3fc2e746",
   "metadata": {},
   "outputs": [
    {
     "name": "stdout",
     "output_type": "stream",
     "text": [
      "w0 =  0.30 , w1 = -0.50 , w2 =  0.15\n",
      "w0 =  0.40 , w1 = -0.40 , w2 =  0.05\n",
      "w0 =  0.30 , w1 = -0.50 , w2 = -0.05\n",
      "w0 =  0.40 , w1 = -0.40 , w2 = -0.15\n"
     ]
    },
    {
     "data": {
      "image/png": "[encoded data removed]",
      "text/plain": [
       "<Figure size 432x288 with 1 Axes>"
      ]
     },
     "metadata": {
      "needs_background": "light"
     },
     "output_type": "display_data"
    }
   ],
   "source": [
    "# Perceptron training loop\n",
    "all_correct = False\n",
    "while not all_correct: # while all_correct == False should also work -G\n",
    "    all_correct = True\n",
    "    random.shuffle(index_list) # Randomize order\n",
    "    for i in index_list:\n",
    "        x = x_train[i]\n",
    "        y = y_train[i]\n",
    "        p_out = compute_output(w, x) # Perceptron function\n",
    "        \n",
    "        if y != p_out: # Update weights when wrong\n",
    "            for j in range(0, len(w)):\n",
    "                w[j] +=(y * LEARNING_RATE * x[j])\n",
    "            all_correct = False\n",
    "            show_learning(w) # Show updated weights"
   ]
  },
  {
   "cell_type": "markdown",
   "id": "f4fb1b34",
   "metadata": {},
   "source": [
    "Code Snippet 1-5: Extended Version of Initialization Code with Function to Plot the Output"
   ]
  },
  {
   "cell_type": "code",
   "execution_count": 10,
   "id": "dc11c78b",
   "metadata": {},
   "outputs": [
    {
     "name": "stdout",
     "output_type": "stream",
     "text": [
      "w0 =  0.20 , w1 = -0.60 , w2 =  0.25\n"
     ]
    },
    {
     "data": {
      "image/png": "[encoded data removed]",
      "text/plain": [
       "<Figure size 432x288 with 1 Axes>"
      ]
     },
     "metadata": {
      "needs_background": "light"
     },
     "output_type": "display_data"
    }
   ],
   "source": [
    "import matplotlib.pyplot as plt\n",
    "# import random # Random is already imported above -G\n",
    "\n",
    "# Define variables needed for plotting \n",
    "color_list = ['r-', 'm-', 'y-', 'c-', 'b-', 'g-']\n",
    "color_index = 0\n",
    "\n",
    "def show_learning(w):\n",
    "    global color_index \n",
    "    print('w0 =', '%5.2f' % w[0], ', w1 =', '%5.2f' % w[1], ', w2 =', '%5.2f' % w[2])\n",
    "    if color_index == 0:\n",
    "        plt.plot([1.0], [1.0], 'b_', markersize = 12)\n",
    "        plt.plot([-1.0, 1.0, -1.0], [1.0, -1.0, -1.0],'r+', markersize=12)\n",
    "        plt.axis([-2, 2, -2, 2])\n",
    "        plt.xlabel('x1')\n",
    "        plt.ylabel('x2')\n",
    "    x = [-2.0, 2.0]\n",
    "    if abs(w[2]) < 1e-5:\n",
    "        y = [-w[1]/(1e-5)*(-2.0)+(-w[0]/(1e-5)), -w[1]/(1e-5)*(2.0)+(-w[0]/(1e-5))]\n",
    "    else:\n",
    "        y = [-w[1]/w[2]*(-2.0)+(-w[0]/w[2]), -w[1]/w[2]*(2.0)+(-w[0]/w[2])]\n",
    "    plt.plot(x, y, color_list[color_index])\n",
    "    if color_index < (len(color_list) - 1):\n",
    "        color_index += 1\n",
    "        \n",
    "# Define variables needed to control training process.\n",
    "random.seed(7) # To make repeatable\n",
    "LEARNING_RATE = 0.1\n",
    "index_list = [0, 1, 2, 3] # Used to randomize order\n",
    "\n",
    "# Define training examples.\n",
    "x_train = [(1.0, -1.0, -1.0), (1.0, -1.0, 1.0), (1.0, 1.0, -1.0), (1.0, 1.0, 1.0)] # Inputs\n",
    "y_train = [1.0, 1.0, 1.0, -1.0] # Output (ground truth)\n",
    "\n",
    "# Define perceptron weights.\n",
    "w = [0.2, -0.6, 0.25] # Initialize to some \"random\" numbers\n",
    "\n",
    "# Print initial weights.\n",
    "show_learning(w)"
   ]
  },
  {
   "cell_type": "markdown",
   "id": "e1342452",
   "metadata": {},
   "source": [
    "Code Snippet 1-6: Our Perceptron Function Rewritten Using Vector Notation"
   ]
  },
  {
   "cell_type": "code",
   "execution_count": 1,
   "id": "300b7b2c",
   "metadata": {},
   "outputs": [],
   "source": [
    "import numpy as np\n",
    "def compute_output_vector(w,x):\n",
    "    z = np.dot(w, x)\n",
    "    return np.sign(z)"
   ]
  }
 ],
 "metadata": {
  "kernelspec": {
   "display_name": "Python 3 (ipykernel)",
   "language": "python",
   "name": "python3"
  },
  "language_info": {
   "codemirror_mode": {
    "name": "ipython",
    "version": 3
   },
   "file_extension": ".py",
   "mimetype": "text/x-python",
   "name": "python",
   "nbconvert_exporter": "python",
   "pygments_lexer": "ipython3",
   "version": "3.8.8"
  }
 },
 "nbformat": 4,
 "nbformat_minor": 5
}
